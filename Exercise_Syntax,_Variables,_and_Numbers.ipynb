{
  "metadata": {
    "kernelspec": {
      "display_name": "Python 3",
      "language": "python",
      "name": "python3"
    },
    "language_info": {
      "name": "python",
      "version": "3.10.12",
      "mimetype": "text/x-python",
      "codemirror_mode": {
        "name": "ipython",
        "version": 3
      },
      "pygments_lexer": "ipython3",
      "nbconvert_exporter": "python",
      "file_extension": ".py"
    },
    "learntools_metadata": {
      "lesson_index": 0,
      "type": "exercise"
    },
    "kaggle": {
      "accelerator": "none",
      "dataSources": [],
      "isInternetEnabled": false,
      "language": "python",
      "sourceType": "notebook",
      "isGpuEnabled": false
    },
    "colab": {
      "name": "Exercise: Syntax, Variables, and Numbers",
      "provenance": [],
      "include_colab_link": true
    }
  },
  "nbformat_minor": 0,
  "nbformat": 4,
  "cells": [
    {
      "cell_type": "markdown",
      "metadata": {
        "id": "view-in-github",
        "colab_type": "text"
      },
      "source": [
        "<a href=\"https://colab.research.google.com/github/dengathitu/Exercise-Syntax-Variables-and-Numbers/blob/main/Exercise_Syntax%2C_Variables%2C_and_Numbers.ipynb\" target=\"_parent\"><img src=\"https://colab.research.google.com/assets/colab-badge.svg\" alt=\"Open In Colab\"/></a>"
      ]
    },
    {
      "cell_type": "markdown",
      "source": [
        "**This notebook is an exercise in the [Python](https://www.kaggle.com/learn/python) course.  You can reference the tutorial at [this link](https://www.kaggle.com/colinmorris/hello-python).**\n",
        "\n",
        "---\n"
      ],
      "metadata": {
        "id": "W-lIb5-VJhSh"
      }
    },
    {
      "cell_type": "markdown",
      "source": [
        "Welcome to your first set of Python coding problems.  If this is your first time using Kaggle Notebooks, welcome!\n",
        "\n",
        "Notebooks are composed of blocks (called \"cells\") of text and code. Each of these is editable, though you'll mainly be editing the code cells to answer some questions.\n",
        "\n",
        "To get started, try running the code cell below (by pressing the ► button, or clicking on the cell and pressing ctrl+enter on your keyboard)."
      ],
      "metadata": {
        "id": "x5DbvzYiJhSi"
      }
    },
    {
      "cell_type": "code",
      "source": [],
      "metadata": {
        "trusted": true,
        "id": "Y1Fk5uZeJhSj"
      },
      "outputs": [],
      "execution_count": null
    },
    {
      "cell_type": "code",
      "source": [
        "x= input(\"student_name\")\n",
        "print(\"You've successfully run some Python code\")\n",
        "print(\"Congratulations\", x,)\n",
        "print(x,\"You are making tremendous efforts in your learning curve!\")"
      ],
      "metadata": {
        "trusted": true,
        "execution": {
          "iopub.status.busy": "2025-02-21T15:33:53.729149Z",
          "iopub.execute_input": "2025-02-21T15:33:53.729515Z",
          "iopub.status.idle": "2025-02-21T15:34:27.751797Z",
          "shell.execute_reply.started": "2025-02-21T15:33:53.729483Z",
          "shell.execute_reply": "2025-02-21T15:34:27.75075Z"
        },
        "id": "3ezPkF6AJhSk",
        "outputId": "eec6907b-213b-4ed9-e58f-8ca2bdcca8c2"
      },
      "outputs": [
        {
          "output_type": "stream",
          "name": "stdin",
          "text": "student_name Semi Noel!\n"
        },
        {
          "name": "stdout",
          "text": "You've successfully run some Python code\nCongratulations Semi Noel!\nSemi Noel! You are making tremendous efforts in your learning curve!\n",
          "output_type": "stream"
        }
      ],
      "execution_count": null
    },
    {
      "cell_type": "code",
      "source": [],
      "metadata": {
        "trusted": true,
        "id": "t01lKDeYJhSl"
      },
      "outputs": [],
      "execution_count": null
    },
    {
      "cell_type": "markdown",
      "source": [
        "Try adding another line of code in the cell above and re-running it.\n",
        "\n",
        "Now let's get a little fancier:  Add a new code cell by clicking on an existing code cell, hitting the escape key, and then hitting the `a` or `b` key.  The `a` key will add a cell above the current cell, and `b` adds a cell below.\n",
        "\n",
        "Great! Now you know how to use Notebooks.\n",
        "\n",
        "Each hands-on exercise starts by setting up our feedback and code checking mechanism. Run the code cell below to do that. Then you'll be ready to move on to question 0."
      ],
      "metadata": {
        "id": "ZTK0s_E7JhSl"
      }
    },
    {
      "cell_type": "code",
      "source": [
        "from learntools.core import binder; binder.bind(globals())\n",
        "from learntools.python.ex1 import *\n",
        "print(\"Setup complete! You're ready to start question 0.\")"
      ],
      "metadata": {
        "_kg_hide-input": true,
        "_kg_hide-output": true,
        "trusted": true,
        "execution": {
          "iopub.status.busy": "2025-02-21T15:34:27.753135Z",
          "iopub.execute_input": "2025-02-21T15:34:27.753443Z",
          "iopub.status.idle": "2025-02-21T15:34:27.758692Z",
          "shell.execute_reply.started": "2025-02-21T15:34:27.753404Z",
          "shell.execute_reply": "2025-02-21T15:34:27.757633Z"
        },
        "id": "cb-bTHomJhSl",
        "outputId": "84571419-1546-4fb7-b078-80dfece2ef7c"
      },
      "outputs": [
        {
          "name": "stdout",
          "text": "Setup complete! You're ready to start question 0.\n",
          "output_type": "stream"
        }
      ],
      "execution_count": null
    },
    {
      "cell_type": "markdown",
      "source": [
        "# 0.\n",
        "\n",
        "*This is a silly question intended as an introduction to the format we use for hands-on exercises throughout all Kaggle courses.*\n",
        "\n",
        "**What is your favorite color? **\n",
        "\n",
        "To complete this question, create a variable called `color` in the cell below with an appropriate value. The function call `q0.check()` (which we've already provided in the cell below) will check your answer."
      ],
      "metadata": {
        "id": "JAq8e_SpJhSm"
      }
    },
    {
      "cell_type": "code",
      "source": [
        "# create a variable called color with an appropriate value on the line below\n",
        "# (Remember, strings in Python must be enclosed in 'single' or \"double\" quotes)\n",
        "color = \"blue\"\n",
        "\n",
        "# Check your answer\n",
        "q0.check()"
      ],
      "metadata": {
        "trusted": true,
        "execution": {
          "iopub.status.busy": "2025-02-21T15:34:27.760543Z",
          "iopub.execute_input": "2025-02-21T15:34:27.76092Z",
          "iopub.status.idle": "2025-02-21T15:34:27.783324Z",
          "shell.execute_reply.started": "2025-02-21T15:34:27.760878Z",
          "shell.execute_reply": "2025-02-21T15:34:27.782247Z"
        },
        "id": "vxoFitAqJhSm",
        "outputId": "7f5ddd46-b984-4384-b892-0e730fd744b1"
      },
      "outputs": [
        {
          "output_type": "display_data",
          "data": {
            "text/plain": "<IPython.core.display.Javascript object>",
            "application/javascript": "parent.postMessage({\"jupyterEvent\": \"custom.exercise_interaction\", \"data\": {\"outcomeType\": 1, \"valueTowardsCompletion\": 0.25, \"interactionType\": 1, \"questionType\": 2, \"questionId\": \"0_ExerciseFormatTutorial\", \"learnToolsVersion\": \"0.3.4\", \"failureMessage\": \"\", \"exceptionClass\": \"\", \"trace\": \"\"}}, \"*\")"
          },
          "metadata": {}
        },
        {
          "output_type": "display_data",
          "data": {
            "text/plain": "Correct",
            "text/markdown": "<span style=\"color:#33cc33\">Correct</span>"
          },
          "metadata": {}
        }
      ],
      "execution_count": null
    },
    {
      "cell_type": "markdown",
      "source": [
        "Didn't get the right answer? How do you not even know your own favorite color?!\n",
        "\n",
        "Delete the `#` in the line below to make one of the lines run. You can choose between getting a hint or the full answer by choosing which line to remove the `#` from.\n",
        "\n",
        "Removing the `#` is called uncommenting, because it changes that line from a \"comment\" which Python doesn't run to code, which Python does run."
      ],
      "metadata": {
        "id": "t1CkjPwMJhSn"
      }
    },
    {
      "cell_type": "code",
      "source": [
        "q0.hint()\n",
        "q0.solution()"
      ],
      "metadata": {
        "trusted": true,
        "execution": {
          "iopub.status.busy": "2025-02-21T15:34:27.784724Z",
          "iopub.execute_input": "2025-02-21T15:34:27.785058Z",
          "iopub.status.idle": "2025-02-21T15:34:27.808888Z",
          "shell.execute_reply.started": "2025-02-21T15:34:27.78503Z",
          "shell.execute_reply": "2025-02-21T15:34:27.807904Z"
        },
        "id": "BVPBTyzYJhSn",
        "outputId": "eb668685-e97e-4342-e0f6-ef8acaae66d3"
      },
      "outputs": [
        {
          "output_type": "display_data",
          "data": {
            "text/plain": "<IPython.core.display.Javascript object>",
            "application/javascript": "parent.postMessage({\"jupyterEvent\": \"custom.exercise_interaction\", \"data\": {\"interactionType\": 2, \"questionType\": 2, \"questionId\": \"0_ExerciseFormatTutorial\", \"learnToolsVersion\": \"0.3.4\", \"valueTowardsCompletion\": 0.0, \"failureMessage\": \"\", \"exceptionClass\": \"\", \"trace\": \"\", \"outcomeType\": 4}}, \"*\")"
          },
          "metadata": {}
        },
        {
          "output_type": "display_data",
          "data": {
            "text/plain": "Hint: Your favorite color rhymes with *glue*.",
            "text/markdown": "<span style=\"color:#3366cc\">Hint:</span> Your favorite color rhymes with *glue*."
          },
          "metadata": {}
        },
        {
          "output_type": "display_data",
          "data": {
            "text/plain": "<IPython.core.display.Javascript object>",
            "application/javascript": "parent.postMessage({\"jupyterEvent\": \"custom.exercise_interaction\", \"data\": {\"interactionType\": 3, \"questionType\": 2, \"questionId\": \"0_ExerciseFormatTutorial\", \"learnToolsVersion\": \"0.3.4\", \"valueTowardsCompletion\": 0.0, \"failureMessage\": \"\", \"exceptionClass\": \"\", \"trace\": \"\", \"outcomeType\": 4}}, \"*\")"
          },
          "metadata": {}
        },
        {
          "output_type": "display_data",
          "data": {
            "text/plain": "Solution: \n```python\ncolor = \"blue\"\n```",
            "text/markdown": "<span style=\"color:#33cc99\">Solution:</span> \n```python\ncolor = \"blue\"\n```"
          },
          "metadata": {}
        }
      ],
      "execution_count": null
    },
    {
      "cell_type": "markdown",
      "source": [
        "The upcoming questions work the same way. The only thing that will change are the question numbers. For the next question, you'll call `q1.check()`, `q1.hint()`, `q1.solution()`, for question 2, you'll call `q2.check()`, and so on."
      ],
      "metadata": {
        "id": "4OGbr4lqJhSn"
      }
    },
    {
      "cell_type": "markdown",
      "source": [
        "<hr/>\n",
        "\n",
        "# 1.\n",
        "\n",
        "Complete the code below. In case it's helpful, here is the table of available arithmetic operations:\n",
        "\n",
        "\n",
        "\n",
        "| Operator     | Name           | Description                                            |\n",
        "|--------------|----------------|--------------------------------------------------------|\n",
        "| ``a + b``    | Addition       | Sum of ``a`` and ``b``                                 |\n",
        "| ``a - b``    | Subtraction    | Difference of ``a`` and ``b``                          |\n",
        "| ``a * b``    | Multiplication | Product of ``a`` and ``b``                             |\n",
        "| ``a / b``    | True division  | Quotient of ``a`` and ``b``                            |\n",
        "| ``a // b``   | Floor division | Quotient of ``a`` and ``b``, removing fractional parts |\n",
        "| ``a % b``    | Modulus        | Integer remainder after division of ``a`` by ``b``     |\n",
        "| ``a ** b``   | Exponentiation | ``a`` raised to the power of ``b``                     |\n",
        "| ``-a``       | Negation       | The negative of ``a``                                  |\n",
        "\n",
        "<span style=\"display:none\"></span>\n"
      ],
      "metadata": {
        "id": "VfZJvRVIJhSo"
      }
    },
    {
      "cell_type": "code",
      "source": [
        "pi = 3.14159 # approximate\n",
        "diameter = 3\n",
        "\n",
        "# Create a variable called 'radius' equal to half the diameter\n",
        "radius = diameter / 2\n",
        "\n",
        "# Create a variable called 'area', using the formula for the area of a circle: pi times the radius squared\n",
        "area = pi * radius **2\n",
        "\n",
        "# Check your answer\n",
        "q1.check()"
      ],
      "metadata": {
        "trusted": true,
        "execution": {
          "iopub.status.busy": "2025-02-21T15:34:27.809946Z",
          "iopub.execute_input": "2025-02-21T15:34:27.810315Z",
          "iopub.status.idle": "2025-02-21T15:34:27.819345Z",
          "shell.execute_reply.started": "2025-02-21T15:34:27.810272Z",
          "shell.execute_reply": "2025-02-21T15:34:27.818375Z"
        },
        "id": "eAvKyOJIJhSo",
        "outputId": "59181608-b152-43a0-8457-1f02cae8280c"
      },
      "outputs": [
        {
          "output_type": "display_data",
          "data": {
            "text/plain": "<IPython.core.display.Javascript object>",
            "application/javascript": "parent.postMessage({\"jupyterEvent\": \"custom.exercise_interaction\", \"data\": {\"outcomeType\": 1, \"valueTowardsCompletion\": 0.25, \"interactionType\": 1, \"questionType\": 1, \"questionId\": \"1_CircleArea\", \"learnToolsVersion\": \"0.3.4\", \"failureMessage\": \"\", \"exceptionClass\": \"\", \"trace\": \"\"}}, \"*\")"
          },
          "metadata": {}
        },
        {
          "output_type": "display_data",
          "data": {
            "text/plain": "Correct",
            "text/markdown": "<span style=\"color:#33cc33\">Correct</span>"
          },
          "metadata": {}
        }
      ],
      "execution_count": null
    },
    {
      "cell_type": "code",
      "source": [
        "# Uncomment and run the lines below if you need help.\n",
        "q1.hint()\n",
        "q1.solution()"
      ],
      "metadata": {
        "trusted": true,
        "execution": {
          "iopub.status.busy": "2025-02-21T15:34:27.820429Z",
          "iopub.execute_input": "2025-02-21T15:34:27.820768Z",
          "iopub.status.idle": "2025-02-21T15:34:27.838065Z",
          "shell.execute_reply.started": "2025-02-21T15:34:27.820739Z",
          "shell.execute_reply": "2025-02-21T15:34:27.837139Z"
        },
        "id": "48x3eV8HJhSo",
        "outputId": "c323ed1f-f2e0-4c8f-fe10-20090b2b2e5e"
      },
      "outputs": [
        {
          "output_type": "display_data",
          "data": {
            "text/plain": "<IPython.core.display.Javascript object>",
            "application/javascript": "parent.postMessage({\"jupyterEvent\": \"custom.exercise_interaction\", \"data\": {\"interactionType\": 2, \"questionType\": 1, \"questionId\": \"1_CircleArea\", \"learnToolsVersion\": \"0.3.4\", \"valueTowardsCompletion\": 0.0, \"failureMessage\": \"\", \"exceptionClass\": \"\", \"trace\": \"\", \"outcomeType\": 4}}, \"*\")"
          },
          "metadata": {}
        },
        {
          "output_type": "display_data",
          "data": {
            "text/plain": "Hint: The syntax to raise a to the b'th power is `a ** b`",
            "text/markdown": "<span style=\"color:#3366cc\">Hint:</span> The syntax to raise a to the b'th power is `a ** b`"
          },
          "metadata": {}
        },
        {
          "output_type": "display_data",
          "data": {
            "text/plain": "<IPython.core.display.Javascript object>",
            "application/javascript": "parent.postMessage({\"jupyterEvent\": \"custom.exercise_interaction\", \"data\": {\"interactionType\": 3, \"questionType\": 1, \"questionId\": \"1_CircleArea\", \"learnToolsVersion\": \"0.3.4\", \"valueTowardsCompletion\": 0.0, \"failureMessage\": \"\", \"exceptionClass\": \"\", \"trace\": \"\", \"outcomeType\": 4}}, \"*\")"
          },
          "metadata": {}
        },
        {
          "output_type": "display_data",
          "data": {
            "text/plain": "Solution: \n```python\nradius = diameter / 2\narea = pi * radius ** 2\n```",
            "text/markdown": "<span style=\"color:#33cc99\">Solution:</span> \n```python\nradius = diameter / 2\narea = pi * radius ** 2\n```"
          },
          "metadata": {}
        }
      ],
      "execution_count": null
    },
    {
      "cell_type": "markdown",
      "source": [
        "<hr/>\n",
        "\n",
        "# 2.\n",
        "\n",
        "Add code to the following cell to swap variables `a` and `b` (so that `a` refers to the object previously referred to by `b` and vice versa)."
      ],
      "metadata": {
        "id": "-RqlWNCuJhSp"
      }
    },
    {
      "cell_type": "code",
      "source": [
        "########### Setup code - don't touch this part ######################\n",
        "# If you're curious, these are examples of lists. We'll talk about\n",
        "# them in depth a few lessons from now. For now, just know that they're\n",
        "# yet another type of Python object, like int or float.\n",
        "a = [1, 2, 3]\n",
        "b = [3, 2, 1]\n",
        "q2.store_original_ids()\n",
        "######################################################################\n",
        "\n",
        "# Your code goes here. Swap the values to which a and b refer.\n",
        "c = a\n",
        "d = b\n",
        "a = d\n",
        "b = c\n",
        "print(a)\n",
        "print(b)\n",
        "\n",
        "# If you get stuck, you can always uncomment one or both of the lines in\n",
        "# the next cell for a hint, or to peek at the solution.\n",
        "\n",
        "######################################################################\n",
        "\n",
        "# Check your answer\n",
        "q2.check()"
      ],
      "metadata": {
        "trusted": true,
        "execution": {
          "iopub.status.busy": "2025-02-21T15:34:27.839008Z",
          "iopub.execute_input": "2025-02-21T15:34:27.839331Z",
          "iopub.status.idle": "2025-02-21T15:34:27.855897Z",
          "shell.execute_reply.started": "2025-02-21T15:34:27.839305Z",
          "shell.execute_reply": "2025-02-21T15:34:27.85477Z"
        },
        "id": "XQGs0--pJhSp",
        "outputId": "a330a619-964d-4942-ef5e-130a068938d8"
      },
      "outputs": [
        {
          "name": "stdout",
          "text": "[3, 2, 1]\n[1, 2, 3]\n",
          "output_type": "stream"
        },
        {
          "output_type": "display_data",
          "data": {
            "text/plain": "<IPython.core.display.Javascript object>",
            "application/javascript": "parent.postMessage({\"jupyterEvent\": \"custom.exercise_interaction\", \"data\": {\"outcomeType\": 1, \"valueTowardsCompletion\": 0.25, \"interactionType\": 1, \"questionType\": 2, \"questionId\": \"2_VariableSwap\", \"learnToolsVersion\": \"0.3.4\", \"failureMessage\": \"\", \"exceptionClass\": \"\", \"trace\": \"\"}}, \"*\")"
          },
          "metadata": {}
        },
        {
          "output_type": "display_data",
          "data": {
            "text/plain": "Correct: \n\nThe most straightforward solution is to use a third variable to temporarily store one of the old values. e.g.:\n\n    tmp = a\n    a = b\n    b = tmp\n\nIf you've read lots of Python code, you might have seen the following trick to swap two variables in one line:\n\n    a, b = b, a\n\nWe'll demystify this bit of Python magic later when we talk about *tuples*.",
            "text/markdown": "<span style=\"color:#33cc33\">Correct:</span> \n\nThe most straightforward solution is to use a third variable to temporarily store one of the old values. e.g.:\n\n    tmp = a\n    a = b\n    b = tmp\n\nIf you've read lots of Python code, you might have seen the following trick to swap two variables in one line:\n\n    a, b = b, a\n\nWe'll demystify this bit of Python magic later when we talk about *tuples*."
          },
          "metadata": {}
        }
      ],
      "execution_count": null
    },
    {
      "cell_type": "code",
      "source": [
        "q2.hint()"
      ],
      "metadata": {
        "trusted": true,
        "execution": {
          "iopub.status.busy": "2025-02-21T15:34:27.856981Z",
          "iopub.execute_input": "2025-02-21T15:34:27.857388Z",
          "iopub.status.idle": "2025-02-21T15:34:27.880069Z",
          "shell.execute_reply.started": "2025-02-21T15:34:27.85735Z",
          "shell.execute_reply": "2025-02-21T15:34:27.87907Z"
        },
        "id": "Lh3JW62ZJhSp",
        "outputId": "6c9d2186-8138-44d5-9c30-a39e7c0e6765"
      },
      "outputs": [
        {
          "output_type": "display_data",
          "data": {
            "text/plain": "<IPython.core.display.Javascript object>",
            "application/javascript": "parent.postMessage({\"jupyterEvent\": \"custom.exercise_interaction\", \"data\": {\"interactionType\": 2, \"questionType\": 2, \"questionId\": \"2_VariableSwap\", \"learnToolsVersion\": \"0.3.4\", \"valueTowardsCompletion\": 0.0, \"failureMessage\": \"\", \"exceptionClass\": \"\", \"trace\": \"\", \"outcomeType\": 4}}, \"*\")"
          },
          "metadata": {}
        },
        {
          "output_type": "display_data",
          "data": {
            "text/plain": "Hint: Try using a third variable.",
            "text/markdown": "<span style=\"color:#3366cc\">Hint:</span> Try using a third variable."
          },
          "metadata": {}
        }
      ],
      "execution_count": null
    },
    {
      "cell_type": "code",
      "source": [
        "q2.solution()"
      ],
      "metadata": {
        "trusted": true,
        "execution": {
          "iopub.status.busy": "2025-02-21T15:34:27.883222Z",
          "iopub.execute_input": "2025-02-21T15:34:27.883496Z",
          "iopub.status.idle": "2025-02-21T15:34:27.893231Z",
          "shell.execute_reply.started": "2025-02-21T15:34:27.883473Z",
          "shell.execute_reply": "2025-02-21T15:34:27.892192Z"
        },
        "id": "CYTexcTbJhSp",
        "outputId": "17e9f4fc-b1b9-4806-d633-2f16abab49f8"
      },
      "outputs": [
        {
          "output_type": "display_data",
          "data": {
            "text/plain": "<IPython.core.display.Javascript object>",
            "application/javascript": "parent.postMessage({\"jupyterEvent\": \"custom.exercise_interaction\", \"data\": {\"interactionType\": 3, \"questionType\": 2, \"questionId\": \"2_VariableSwap\", \"learnToolsVersion\": \"0.3.4\", \"valueTowardsCompletion\": 0.0, \"failureMessage\": \"\", \"exceptionClass\": \"\", \"trace\": \"\", \"outcomeType\": 4}}, \"*\")"
          },
          "metadata": {}
        },
        {
          "output_type": "display_data",
          "data": {
            "text/plain": "Solution: The most straightforward solution is to use a third variable to temporarily store one of the old values. e.g.:\n\n    tmp = a\n    a = b\n    b = tmp\n\nIf you've read lots of Python code, you might have seen the following trick to swap two variables in one line:\n\n    a, b = b, a\n\nWe'll demystify this bit of Python magic later when we talk about *tuples*.",
            "text/markdown": "<span style=\"color:#33cc99\">Solution:</span> The most straightforward solution is to use a third variable to temporarily store one of the old values. e.g.:\n\n    tmp = a\n    a = b\n    b = tmp\n\nIf you've read lots of Python code, you might have seen the following trick to swap two variables in one line:\n\n    a, b = b, a\n\nWe'll demystify this bit of Python magic later when we talk about *tuples*."
          },
          "metadata": {}
        }
      ],
      "execution_count": null
    },
    {
      "cell_type": "markdown",
      "source": [
        "<hr/>\n",
        "\n",
        "# 3a.\n",
        "\n",
        "Add parentheses to the following expression so that it evaluates to 1."
      ],
      "metadata": {
        "id": "Z0-sQ2qMJhSp"
      }
    },
    {
      "cell_type": "code",
      "source": [
        "(5 - 3) // 2"
      ],
      "metadata": {
        "trusted": true,
        "execution": {
          "iopub.status.busy": "2025-02-21T15:34:27.89456Z",
          "iopub.execute_input": "2025-02-21T15:34:27.894947Z",
          "iopub.status.idle": "2025-02-21T15:34:27.90741Z",
          "shell.execute_reply.started": "2025-02-21T15:34:27.894904Z",
          "shell.execute_reply": "2025-02-21T15:34:27.906355Z"
        },
        "id": "RYLPwX00JhSq",
        "outputId": "5576e30b-6654-42d2-810f-8eec7403eca5"
      },
      "outputs": [
        {
          "execution_count": 55,
          "output_type": "execute_result",
          "data": {
            "text/plain": "1"
          },
          "metadata": {}
        }
      ],
      "execution_count": null
    },
    {
      "cell_type": "code",
      "source": [
        "q3.a.hint()"
      ],
      "metadata": {
        "trusted": true,
        "execution": {
          "iopub.status.busy": "2025-02-21T15:34:27.90841Z",
          "iopub.execute_input": "2025-02-21T15:34:27.908685Z",
          "iopub.status.idle": "2025-02-21T15:34:27.927643Z",
          "shell.execute_reply.started": "2025-02-21T15:34:27.908659Z",
          "shell.execute_reply": "2025-02-21T15:34:27.926538Z"
        },
        "id": "wu9VOsQhJhSq",
        "outputId": "1585b6c2-156e-45f5-d115-e6765e46c816"
      },
      "outputs": [
        {
          "output_type": "display_data",
          "data": {
            "text/plain": "<IPython.core.display.Javascript object>",
            "application/javascript": "parent.postMessage({\"jupyterEvent\": \"custom.exercise_interaction\", \"data\": {\"interactionType\": 2, \"questionType\": 4, \"questionId\": \"3.1_ArithmeticParensEasy\", \"learnToolsVersion\": \"0.3.4\", \"valueTowardsCompletion\": 0.0, \"failureMessage\": \"\", \"exceptionClass\": \"\", \"trace\": \"\", \"outcomeType\": 4}}, \"*\")"
          },
          "metadata": {}
        },
        {
          "output_type": "display_data",
          "data": {
            "text/plain": "Hint: Following its default \"BEDMAS\"-like rules for order of operations, Python will first divide 3 by 2, then subtract the result from 5. You need to add parentheses to force it to perform the subtraction first.",
            "text/markdown": "<span style=\"color:#3366cc\">Hint:</span> Following its default \"BEDMAS\"-like rules for order of operations, Python will first divide 3 by 2, then subtract the result from 5. You need to add parentheses to force it to perform the subtraction first."
          },
          "metadata": {}
        }
      ],
      "execution_count": null
    },
    {
      "cell_type": "code",
      "source": [
        "# Check your answer (Run this code cell to receive credit!)\n",
        "q3.a.solution()"
      ],
      "metadata": {
        "trusted": true,
        "execution": {
          "iopub.status.busy": "2025-02-21T15:34:27.928621Z",
          "iopub.execute_input": "2025-02-21T15:34:27.928935Z",
          "iopub.status.idle": "2025-02-21T15:34:27.947588Z",
          "shell.execute_reply.started": "2025-02-21T15:34:27.928907Z",
          "shell.execute_reply": "2025-02-21T15:34:27.94653Z"
        },
        "id": "2RZAKdjHJhSq",
        "outputId": "dba18ff1-1189-4c65-9a53-6cb775174c6b"
      },
      "outputs": [
        {
          "output_type": "display_data",
          "data": {
            "text/plain": "<IPython.core.display.Javascript object>",
            "application/javascript": "parent.postMessage({\"jupyterEvent\": \"custom.exercise_interaction\", \"data\": {\"interactionType\": 3, \"questionType\": 4, \"questionId\": \"3.1_ArithmeticParensEasy\", \"learnToolsVersion\": \"0.3.4\", \"valueTowardsCompletion\": 0.0, \"failureMessage\": \"\", \"exceptionClass\": \"\", \"trace\": \"\", \"outcomeType\": 4}}, \"*\")"
          },
          "metadata": {}
        },
        {
          "output_type": "display_data",
          "data": {
            "text/plain": "Solution: \n```python\n(5 - 3) // 2\n```",
            "text/markdown": "<span style=\"color:#33cc99\">Solution:</span> \n```python\n(5 - 3) // 2\n```"
          },
          "metadata": {}
        }
      ],
      "execution_count": null
    },
    {
      "cell_type": "markdown",
      "source": [
        "# 3b.  <span title=\"A bit spicy\" style=\"color: darkgreen \">🌶️</span>\n",
        "\n",
        "<small>Questions, like this one, marked a spicy pepper are a bit harder.</small>\n",
        "\n",
        "Add parentheses to the following expression so that it evaluates to 0."
      ],
      "metadata": {
        "id": "PjP93cTYJhSq"
      }
    },
    {
      "cell_type": "code",
      "source": [
        "(8 - 3) * (2 - (1 + 1))"
      ],
      "metadata": {
        "trusted": true,
        "execution": {
          "iopub.status.busy": "2025-02-21T15:34:27.94865Z",
          "iopub.execute_input": "2025-02-21T15:34:27.949015Z",
          "iopub.status.idle": "2025-02-21T15:34:27.960247Z",
          "shell.execute_reply.started": "2025-02-21T15:34:27.948982Z",
          "shell.execute_reply": "2025-02-21T15:34:27.959058Z"
        },
        "id": "f0t3sZHkJhSq",
        "outputId": "26f0dd60-dcaf-4e86-83a7-03ad87bb3b6a"
      },
      "outputs": [
        {
          "execution_count": 58,
          "output_type": "execute_result",
          "data": {
            "text/plain": "0"
          },
          "metadata": {}
        }
      ],
      "execution_count": null
    },
    {
      "cell_type": "code",
      "source": [
        "q3.b.hint()"
      ],
      "metadata": {
        "trusted": true,
        "execution": {
          "iopub.status.busy": "2025-02-21T15:34:27.961268Z",
          "iopub.execute_input": "2025-02-21T15:34:27.961654Z",
          "iopub.status.idle": "2025-02-21T15:34:27.979128Z",
          "shell.execute_reply.started": "2025-02-21T15:34:27.961614Z",
          "shell.execute_reply": "2025-02-21T15:34:27.978183Z"
        },
        "id": "DAAi8MipJhSr",
        "outputId": "99660bde-c0ec-4fd2-9c89-909bae6b7d8b"
      },
      "outputs": [
        {
          "output_type": "display_data",
          "data": {
            "text/plain": "<IPython.core.display.Javascript object>",
            "application/javascript": "parent.postMessage({\"jupyterEvent\": \"custom.exercise_interaction\", \"data\": {\"interactionType\": 2, \"questionType\": 4, \"questionId\": \"3.2_ArithmeticParensHard\", \"learnToolsVersion\": \"0.3.4\", \"valueTowardsCompletion\": 0.0, \"failureMessage\": \"\", \"exceptionClass\": \"\", \"trace\": \"\", \"outcomeType\": 4}}, \"*\")"
          },
          "metadata": {}
        },
        {
          "output_type": "display_data",
          "data": {
            "text/plain": "Hint: You may need to use several pairs of parentheses.",
            "text/markdown": "<span style=\"color:#3366cc\">Hint:</span> You may need to use several pairs of parentheses."
          },
          "metadata": {}
        }
      ],
      "execution_count": null
    },
    {
      "cell_type": "code",
      "source": [
        "# Check your answer (Run this code cell to receive credit!)\n",
        "q3.b.solution()"
      ],
      "metadata": {
        "trusted": true,
        "execution": {
          "iopub.status.busy": "2025-02-21T15:34:27.98017Z",
          "iopub.execute_input": "2025-02-21T15:34:27.980502Z",
          "iopub.status.idle": "2025-02-21T15:34:27.99759Z",
          "shell.execute_reply.started": "2025-02-21T15:34:27.980471Z",
          "shell.execute_reply": "2025-02-21T15:34:27.996491Z"
        },
        "id": "hrwx4RxIJhSr",
        "outputId": "baa011ff-be10-4d73-820c-689956162402"
      },
      "outputs": [
        {
          "output_type": "display_data",
          "data": {
            "text/plain": "<IPython.core.display.Javascript object>",
            "application/javascript": "parent.postMessage({\"jupyterEvent\": \"custom.exercise_interaction\", \"data\": {\"interactionType\": 3, \"questionType\": 4, \"questionId\": \"3.2_ArithmeticParensHard\", \"learnToolsVersion\": \"0.3.4\", \"valueTowardsCompletion\": 0.0, \"failureMessage\": \"\", \"exceptionClass\": \"\", \"trace\": \"\", \"outcomeType\": 4}}, \"*\")"
          },
          "metadata": {}
        },
        {
          "output_type": "display_data",
          "data": {
            "text/plain": "Solution: `(8 - 3) * (2 - (1 + 1))` is one solution. There may be others.",
            "text/markdown": "<span style=\"color:#33cc99\">Solution:</span> `(8 - 3) * (2 - (1 + 1))` is one solution. There may be others."
          },
          "metadata": {}
        }
      ],
      "execution_count": null
    },
    {
      "cell_type": "markdown",
      "source": [
        "<hr/>\n",
        "\n",
        "# 4.\n",
        "Alice, Bob and Carol have agreed to pool their Halloween candy and split it evenly among themselves.\n",
        "For the sake of their friendship, any candies left over will be smashed. For example, if they collectively\n",
        "bring home 91 candies, they'll take 30 each and smash 1.\n",
        "\n",
        "Write an arithmetic expression below to calculate how many candies they must smash for a given haul."
      ],
      "metadata": {
        "id": "z3Re7vn8JhSr"
      }
    },
    {
      "cell_type": "code",
      "source": [
        "# Variables representing the number of candies collected by alice, bob, and carol\n",
        "alice_candies = 121\n",
        "bob_candies = 77\n",
        "carol_candies = 109\n",
        "\n",
        "# Your code goes here! Replace the right-hand side of this assignment with an expression\n",
        "# involving alice_candies, bob_candies, and carol_candies\n",
        "\n",
        "(alice_candies + bob_candies + carol_candies) %3\n",
        "\n",
        "# Check your answer\n",
        "q4.check()"
      ],
      "metadata": {
        "trusted": true,
        "execution": {
          "iopub.status.busy": "2025-02-21T15:34:27.99857Z",
          "iopub.execute_input": "2025-02-21T15:34:27.998906Z",
          "iopub.status.idle": "2025-02-21T15:34:28.022277Z",
          "shell.execute_reply.started": "2025-02-21T15:34:27.998878Z",
          "shell.execute_reply": "2025-02-21T15:34:28.021262Z"
        },
        "id": "gaavcvorJhSr",
        "outputId": "9393054a-3eee-4cd7-cca7-fdcdff33bca7"
      },
      "outputs": [
        {
          "output_type": "display_data",
          "data": {
            "text/plain": "<IPython.core.display.Javascript object>",
            "application/javascript": "parent.postMessage({\"jupyterEvent\": \"custom.exercise_interaction\", \"data\": {\"outcomeType\": 4, \"interactionType\": 1, \"questionType\": 1, \"questionId\": \"4_CandySplitting\", \"learnToolsVersion\": \"0.3.4\", \"valueTowardsCompletion\": 0.0, \"failureMessage\": \"\", \"exceptionClass\": \"\", \"trace\": \"\"}}, \"*\")"
          },
          "metadata": {}
        },
        {
          "output_type": "display_data",
          "data": {
            "text/plain": "Check: When you've updated the starter code, `check()` will tell you whether your code is correct. You need to update the code that creates variable `to_smash`",
            "text/markdown": "<span style=\"color:#ccaa33\">Check:</span> When you've updated the starter code, `check()` will tell you whether your code is correct. You need to update the code that creates variable `to_smash`"
          },
          "metadata": {}
        }
      ],
      "execution_count": null
    },
    {
      "cell_type": "code",
      "source": [
        "q4.hint()\n",
        "q4.solution()"
      ],
      "metadata": {
        "trusted": true,
        "execution": {
          "iopub.status.busy": "2025-02-21T15:34:28.023143Z",
          "iopub.execute_input": "2025-02-21T15:34:28.023412Z",
          "iopub.status.idle": "2025-02-21T15:34:28.042904Z",
          "shell.execute_reply.started": "2025-02-21T15:34:28.02339Z",
          "shell.execute_reply": "2025-02-21T15:34:28.042062Z"
        },
        "id": "TXcQCcmYJhSr",
        "outputId": "1eebb97e-c9dd-4746-caa1-6c3fb2954d1e"
      },
      "outputs": [
        {
          "output_type": "display_data",
          "data": {
            "text/plain": "<IPython.core.display.Javascript object>",
            "application/javascript": "parent.postMessage({\"jupyterEvent\": \"custom.exercise_interaction\", \"data\": {\"interactionType\": 2, \"questionType\": 1, \"questionId\": \"4_CandySplitting\", \"learnToolsVersion\": \"0.3.4\", \"valueTowardsCompletion\": 0.0, \"failureMessage\": \"\", \"exceptionClass\": \"\", \"trace\": \"\", \"outcomeType\": 4}}, \"*\")"
          },
          "metadata": {}
        },
        {
          "output_type": "display_data",
          "data": {
            "text/plain": "Hint 1: You'll probably want to use the modulo operator, `%`.\n(For another hint, call `.hint(2)`)",
            "text/markdown": "<span style=\"color:#3366cc\">Hint 1:</span> You'll probably want to use the modulo operator, `%`.\n(For another hint, call `.hint(2)`)"
          },
          "metadata": {}
        },
        {
          "output_type": "display_data",
          "data": {
            "text/plain": "<IPython.core.display.Javascript object>",
            "application/javascript": "parent.postMessage({\"jupyterEvent\": \"custom.exercise_interaction\", \"data\": {\"interactionType\": 3, \"questionType\": 1, \"questionId\": \"4_CandySplitting\", \"learnToolsVersion\": \"0.3.4\", \"valueTowardsCompletion\": 0.0, \"failureMessage\": \"\", \"exceptionClass\": \"\", \"trace\": \"\", \"outcomeType\": 4}}, \"*\")"
          },
          "metadata": {}
        },
        {
          "output_type": "display_data",
          "data": {
            "text/plain": "Solution: \n```python\n(alice_candies + bob_candies + carol_candies) % 3\n```",
            "text/markdown": "<span style=\"color:#33cc99\">Solution:</span> \n```python\n(alice_candies + bob_candies + carol_candies) % 3\n```"
          },
          "metadata": {}
        }
      ],
      "execution_count": null
    },
    {
      "cell_type": "markdown",
      "source": [
        "# Keep Going\n",
        "\n",
        "Next up, you'll **[learn to write new functions and understand functions others write](https://www.kaggle.com/colinmorris/functions-and-getting-help)**. This will make you at least 10 times more productive as a Python programmer."
      ],
      "metadata": {
        "id": "ceC0rokHJhSr"
      }
    },
    {
      "cell_type": "markdown",
      "source": [
        "---\n",
        "\n",
        "\n",
        "\n",
        "\n",
        "*Have questions or comments? Visit the [course discussion forum](https://www.kaggle.com/learn/python/discussion) to chat with other learners.*"
      ],
      "metadata": {
        "id": "ag1N7WySJhSs"
      }
    }
  ]
}